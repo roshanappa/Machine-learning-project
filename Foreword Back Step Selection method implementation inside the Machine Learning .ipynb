{
 "cells": [
  {
   "cell_type": "code",
   "execution_count": 468,
   "metadata": {},
   "outputs": [],
   "source": [
    "import numpy as np\n",
    "import pandas as pd\n",
    "import seaborn as sns\n",
    "import matplotlib.pyplot as plt\n",
    "\n",
    "import warnings\n",
    "warnings.filterwarnings('ignore')"
   ]
  },
  {
   "cell_type": "code",
   "execution_count": 469,
   "metadata": {},
   "outputs": [],
   "source": [
    "from sklearn.metrics import accuracy_score,mean_squared_error,confusion_matrix,classification_report,auc,roc_curve\n",
    "from sklearn.ensemble import RandomForestClassifier,AdaBoostClassifier,GradientBoostingClassifier\n",
    "from sklearn.preprocessing import LabelEncoder,StandardScaler\n",
    "from mlxtend.feature_selection import exhaustive_feature_selector,SequentialFeatureSelector\n",
    "from sklearn.model_selection import train_test_split,cross_val_score"
   ]
  },
  {
   "cell_type": "code",
   "execution_count": 470,
   "metadata": {},
   "outputs": [],
   "source": [
    "pd.pandas.set_option('display.max_columns',None)"
   ]
  },
  {
   "cell_type": "code",
   "execution_count": 471,
   "metadata": {},
   "outputs": [],
   "source": [
    "data= pd.read_csv('adult.csv')"
   ]
  },
  {
   "cell_type": "code",
   "execution_count": 472,
   "metadata": {},
   "outputs": [
    {
     "data": {
      "text/html": [
       "<div>\n",
       "<style scoped>\n",
       "    .dataframe tbody tr th:only-of-type {\n",
       "        vertical-align: middle;\n",
       "    }\n",
       "\n",
       "    .dataframe tbody tr th {\n",
       "        vertical-align: top;\n",
       "    }\n",
       "\n",
       "    .dataframe thead th {\n",
       "        text-align: right;\n",
       "    }\n",
       "</style>\n",
       "<table border=\"1\" class=\"dataframe\">\n",
       "  <thead>\n",
       "    <tr style=\"text-align: right;\">\n",
       "      <th></th>\n",
       "      <th>age</th>\n",
       "      <th>workclass</th>\n",
       "      <th>fnlwgt</th>\n",
       "      <th>education</th>\n",
       "      <th>education.num</th>\n",
       "      <th>marital.status</th>\n",
       "      <th>occupation</th>\n",
       "      <th>relationship</th>\n",
       "      <th>race</th>\n",
       "      <th>sex</th>\n",
       "      <th>capital.gain</th>\n",
       "      <th>capital.loss</th>\n",
       "      <th>hours.per.week</th>\n",
       "      <th>native.country</th>\n",
       "      <th>income</th>\n",
       "    </tr>\n",
       "  </thead>\n",
       "  <tbody>\n",
       "    <tr>\n",
       "      <td>0</td>\n",
       "      <td>90</td>\n",
       "      <td>?</td>\n",
       "      <td>77053</td>\n",
       "      <td>HS-grad</td>\n",
       "      <td>9</td>\n",
       "      <td>Widowed</td>\n",
       "      <td>?</td>\n",
       "      <td>Not-in-family</td>\n",
       "      <td>White</td>\n",
       "      <td>Female</td>\n",
       "      <td>0</td>\n",
       "      <td>4356</td>\n",
       "      <td>40</td>\n",
       "      <td>United-States</td>\n",
       "      <td>&lt;=50K</td>\n",
       "    </tr>\n",
       "    <tr>\n",
       "      <td>1</td>\n",
       "      <td>82</td>\n",
       "      <td>Private</td>\n",
       "      <td>132870</td>\n",
       "      <td>HS-grad</td>\n",
       "      <td>9</td>\n",
       "      <td>Widowed</td>\n",
       "      <td>Exec-managerial</td>\n",
       "      <td>Not-in-family</td>\n",
       "      <td>White</td>\n",
       "      <td>Female</td>\n",
       "      <td>0</td>\n",
       "      <td>4356</td>\n",
       "      <td>18</td>\n",
       "      <td>United-States</td>\n",
       "      <td>&lt;=50K</td>\n",
       "    </tr>\n",
       "    <tr>\n",
       "      <td>2</td>\n",
       "      <td>66</td>\n",
       "      <td>?</td>\n",
       "      <td>186061</td>\n",
       "      <td>Some-college</td>\n",
       "      <td>10</td>\n",
       "      <td>Widowed</td>\n",
       "      <td>?</td>\n",
       "      <td>Unmarried</td>\n",
       "      <td>Black</td>\n",
       "      <td>Female</td>\n",
       "      <td>0</td>\n",
       "      <td>4356</td>\n",
       "      <td>40</td>\n",
       "      <td>United-States</td>\n",
       "      <td>&lt;=50K</td>\n",
       "    </tr>\n",
       "    <tr>\n",
       "      <td>3</td>\n",
       "      <td>54</td>\n",
       "      <td>Private</td>\n",
       "      <td>140359</td>\n",
       "      <td>7th-8th</td>\n",
       "      <td>4</td>\n",
       "      <td>Divorced</td>\n",
       "      <td>Machine-op-inspct</td>\n",
       "      <td>Unmarried</td>\n",
       "      <td>White</td>\n",
       "      <td>Female</td>\n",
       "      <td>0</td>\n",
       "      <td>3900</td>\n",
       "      <td>40</td>\n",
       "      <td>United-States</td>\n",
       "      <td>&lt;=50K</td>\n",
       "    </tr>\n",
       "    <tr>\n",
       "      <td>4</td>\n",
       "      <td>41</td>\n",
       "      <td>Private</td>\n",
       "      <td>264663</td>\n",
       "      <td>Some-college</td>\n",
       "      <td>10</td>\n",
       "      <td>Separated</td>\n",
       "      <td>Prof-specialty</td>\n",
       "      <td>Own-child</td>\n",
       "      <td>White</td>\n",
       "      <td>Female</td>\n",
       "      <td>0</td>\n",
       "      <td>3900</td>\n",
       "      <td>40</td>\n",
       "      <td>United-States</td>\n",
       "      <td>&lt;=50K</td>\n",
       "    </tr>\n",
       "  </tbody>\n",
       "</table>\n",
       "</div>"
      ],
      "text/plain": [
       "   age workclass  fnlwgt     education  education.num marital.status  \\\n",
       "0   90         ?   77053       HS-grad              9        Widowed   \n",
       "1   82   Private  132870       HS-grad              9        Widowed   \n",
       "2   66         ?  186061  Some-college             10        Widowed   \n",
       "3   54   Private  140359       7th-8th              4       Divorced   \n",
       "4   41   Private  264663  Some-college             10      Separated   \n",
       "\n",
       "          occupation   relationship   race     sex  capital.gain  \\\n",
       "0                  ?  Not-in-family  White  Female             0   \n",
       "1    Exec-managerial  Not-in-family  White  Female             0   \n",
       "2                  ?      Unmarried  Black  Female             0   \n",
       "3  Machine-op-inspct      Unmarried  White  Female             0   \n",
       "4     Prof-specialty      Own-child  White  Female             0   \n",
       "\n",
       "   capital.loss  hours.per.week native.country income  \n",
       "0          4356              40  United-States  <=50K  \n",
       "1          4356              18  United-States  <=50K  \n",
       "2          4356              40  United-States  <=50K  \n",
       "3          3900              40  United-States  <=50K  \n",
       "4          3900              40  United-States  <=50K  "
      ]
     },
     "execution_count": 472,
     "metadata": {},
     "output_type": "execute_result"
    }
   ],
   "source": [
    "data.head()"
   ]
  },
  {
   "cell_type": "code",
   "execution_count": 473,
   "metadata": {},
   "outputs": [
    {
     "data": {
      "text/html": [
       "<div>\n",
       "<style scoped>\n",
       "    .dataframe tbody tr th:only-of-type {\n",
       "        vertical-align: middle;\n",
       "    }\n",
       "\n",
       "    .dataframe tbody tr th {\n",
       "        vertical-align: top;\n",
       "    }\n",
       "\n",
       "    .dataframe thead th {\n",
       "        text-align: right;\n",
       "    }\n",
       "</style>\n",
       "<table border=\"1\" class=\"dataframe\">\n",
       "  <thead>\n",
       "    <tr style=\"text-align: right;\">\n",
       "      <th></th>\n",
       "      <th>age</th>\n",
       "      <th>workclass</th>\n",
       "      <th>fnlwgt</th>\n",
       "      <th>education</th>\n",
       "      <th>education.num</th>\n",
       "      <th>marital.status</th>\n",
       "      <th>occupation</th>\n",
       "      <th>relationship</th>\n",
       "      <th>race</th>\n",
       "      <th>sex</th>\n",
       "      <th>capital.gain</th>\n",
       "      <th>capital.loss</th>\n",
       "      <th>hours.per.week</th>\n",
       "      <th>native.country</th>\n",
       "      <th>income</th>\n",
       "    </tr>\n",
       "  </thead>\n",
       "  <tbody>\n",
       "    <tr>\n",
       "      <td>32556</td>\n",
       "      <td>22</td>\n",
       "      <td>Private</td>\n",
       "      <td>310152</td>\n",
       "      <td>Some-college</td>\n",
       "      <td>10</td>\n",
       "      <td>Never-married</td>\n",
       "      <td>Protective-serv</td>\n",
       "      <td>Not-in-family</td>\n",
       "      <td>White</td>\n",
       "      <td>Male</td>\n",
       "      <td>0</td>\n",
       "      <td>0</td>\n",
       "      <td>40</td>\n",
       "      <td>United-States</td>\n",
       "      <td>&lt;=50K</td>\n",
       "    </tr>\n",
       "    <tr>\n",
       "      <td>32557</td>\n",
       "      <td>27</td>\n",
       "      <td>Private</td>\n",
       "      <td>257302</td>\n",
       "      <td>Assoc-acdm</td>\n",
       "      <td>12</td>\n",
       "      <td>Married-civ-spouse</td>\n",
       "      <td>Tech-support</td>\n",
       "      <td>Wife</td>\n",
       "      <td>White</td>\n",
       "      <td>Female</td>\n",
       "      <td>0</td>\n",
       "      <td>0</td>\n",
       "      <td>38</td>\n",
       "      <td>United-States</td>\n",
       "      <td>&lt;=50K</td>\n",
       "    </tr>\n",
       "    <tr>\n",
       "      <td>32558</td>\n",
       "      <td>40</td>\n",
       "      <td>Private</td>\n",
       "      <td>154374</td>\n",
       "      <td>HS-grad</td>\n",
       "      <td>9</td>\n",
       "      <td>Married-civ-spouse</td>\n",
       "      <td>Machine-op-inspct</td>\n",
       "      <td>Husband</td>\n",
       "      <td>White</td>\n",
       "      <td>Male</td>\n",
       "      <td>0</td>\n",
       "      <td>0</td>\n",
       "      <td>40</td>\n",
       "      <td>United-States</td>\n",
       "      <td>&gt;50K</td>\n",
       "    </tr>\n",
       "    <tr>\n",
       "      <td>32559</td>\n",
       "      <td>58</td>\n",
       "      <td>Private</td>\n",
       "      <td>151910</td>\n",
       "      <td>HS-grad</td>\n",
       "      <td>9</td>\n",
       "      <td>Widowed</td>\n",
       "      <td>Adm-clerical</td>\n",
       "      <td>Unmarried</td>\n",
       "      <td>White</td>\n",
       "      <td>Female</td>\n",
       "      <td>0</td>\n",
       "      <td>0</td>\n",
       "      <td>40</td>\n",
       "      <td>United-States</td>\n",
       "      <td>&lt;=50K</td>\n",
       "    </tr>\n",
       "    <tr>\n",
       "      <td>32560</td>\n",
       "      <td>22</td>\n",
       "      <td>Private</td>\n",
       "      <td>201490</td>\n",
       "      <td>HS-grad</td>\n",
       "      <td>9</td>\n",
       "      <td>Never-married</td>\n",
       "      <td>Adm-clerical</td>\n",
       "      <td>Own-child</td>\n",
       "      <td>White</td>\n",
       "      <td>Male</td>\n",
       "      <td>0</td>\n",
       "      <td>0</td>\n",
       "      <td>20</td>\n",
       "      <td>United-States</td>\n",
       "      <td>&lt;=50K</td>\n",
       "    </tr>\n",
       "  </tbody>\n",
       "</table>\n",
       "</div>"
      ],
      "text/plain": [
       "       age workclass  fnlwgt     education  education.num      marital.status  \\\n",
       "32556   22   Private  310152  Some-college             10       Never-married   \n",
       "32557   27   Private  257302    Assoc-acdm             12  Married-civ-spouse   \n",
       "32558   40   Private  154374       HS-grad              9  Married-civ-spouse   \n",
       "32559   58   Private  151910       HS-grad              9             Widowed   \n",
       "32560   22   Private  201490       HS-grad              9       Never-married   \n",
       "\n",
       "              occupation   relationship   race     sex  capital.gain  \\\n",
       "32556    Protective-serv  Not-in-family  White    Male             0   \n",
       "32557       Tech-support           Wife  White  Female             0   \n",
       "32558  Machine-op-inspct        Husband  White    Male             0   \n",
       "32559       Adm-clerical      Unmarried  White  Female             0   \n",
       "32560       Adm-clerical      Own-child  White    Male             0   \n",
       "\n",
       "       capital.loss  hours.per.week native.country income  \n",
       "32556             0              40  United-States  <=50K  \n",
       "32557             0              38  United-States  <=50K  \n",
       "32558             0              40  United-States   >50K  \n",
       "32559             0              40  United-States  <=50K  \n",
       "32560             0              20  United-States  <=50K  "
      ]
     },
     "execution_count": 473,
     "metadata": {},
     "output_type": "execute_result"
    }
   ],
   "source": [
    "data.tail()"
   ]
  },
  {
   "cell_type": "code",
   "execution_count": 474,
   "metadata": {},
   "outputs": [
    {
     "name": "stdout",
     "output_type": "stream",
     "text": [
      "<class 'pandas.core.frame.DataFrame'>\n",
      "RangeIndex: 32561 entries, 0 to 32560\n",
      "Data columns (total 15 columns):\n",
      "age               32561 non-null int64\n",
      "workclass         32561 non-null object\n",
      "fnlwgt            32561 non-null int64\n",
      "education         32561 non-null object\n",
      "education.num     32561 non-null int64\n",
      "marital.status    32561 non-null object\n",
      "occupation        32561 non-null object\n",
      "relationship      32561 non-null object\n",
      "race              32561 non-null object\n",
      "sex               32561 non-null object\n",
      "capital.gain      32561 non-null int64\n",
      "capital.loss      32561 non-null int64\n",
      "hours.per.week    32561 non-null int64\n",
      "native.country    32561 non-null object\n",
      "income            32561 non-null object\n",
      "dtypes: int64(6), object(9)\n",
      "memory usage: 2.6+ MB\n"
     ]
    }
   ],
   "source": [
    "data.info()"
   ]
  },
  {
   "cell_type": "code",
   "execution_count": 475,
   "metadata": {},
   "outputs": [
    {
     "data": {
      "text/plain": [
       "age               0\n",
       "workclass         0\n",
       "fnlwgt            0\n",
       "education         0\n",
       "education.num     0\n",
       "marital.status    0\n",
       "occupation        0\n",
       "relationship      0\n",
       "race              0\n",
       "sex               0\n",
       "capital.gain      0\n",
       "capital.loss      0\n",
       "hours.per.week    0\n",
       "native.country    0\n",
       "income            0\n",
       "dtype: int64"
      ]
     },
     "execution_count": 475,
     "metadata": {},
     "output_type": "execute_result"
    }
   ],
   "source": [
    "data.isnull().sum()"
   ]
  },
  {
   "cell_type": "code",
   "execution_count": 476,
   "metadata": {},
   "outputs": [
    {
     "data": {
      "text/html": [
       "<div>\n",
       "<style scoped>\n",
       "    .dataframe tbody tr th:only-of-type {\n",
       "        vertical-align: middle;\n",
       "    }\n",
       "\n",
       "    .dataframe tbody tr th {\n",
       "        vertical-align: top;\n",
       "    }\n",
       "\n",
       "    .dataframe thead th {\n",
       "        text-align: right;\n",
       "    }\n",
       "</style>\n",
       "<table border=\"1\" class=\"dataframe\">\n",
       "  <thead>\n",
       "    <tr style=\"text-align: right;\">\n",
       "      <th></th>\n",
       "      <th>age</th>\n",
       "      <th>fnlwgt</th>\n",
       "      <th>education.num</th>\n",
       "      <th>capital.gain</th>\n",
       "      <th>capital.loss</th>\n",
       "      <th>hours.per.week</th>\n",
       "    </tr>\n",
       "  </thead>\n",
       "  <tbody>\n",
       "    <tr>\n",
       "      <td>count</td>\n",
       "      <td>32561.0</td>\n",
       "      <td>32561.0</td>\n",
       "      <td>32561.0</td>\n",
       "      <td>32561.0</td>\n",
       "      <td>32561.0</td>\n",
       "      <td>32561.0</td>\n",
       "    </tr>\n",
       "    <tr>\n",
       "      <td>mean</td>\n",
       "      <td>38.6</td>\n",
       "      <td>189778.4</td>\n",
       "      <td>10.1</td>\n",
       "      <td>1077.6</td>\n",
       "      <td>87.3</td>\n",
       "      <td>40.4</td>\n",
       "    </tr>\n",
       "    <tr>\n",
       "      <td>std</td>\n",
       "      <td>13.6</td>\n",
       "      <td>105550.0</td>\n",
       "      <td>2.6</td>\n",
       "      <td>7385.3</td>\n",
       "      <td>403.0</td>\n",
       "      <td>12.3</td>\n",
       "    </tr>\n",
       "    <tr>\n",
       "      <td>min</td>\n",
       "      <td>17.0</td>\n",
       "      <td>12285.0</td>\n",
       "      <td>1.0</td>\n",
       "      <td>0.0</td>\n",
       "      <td>0.0</td>\n",
       "      <td>1.0</td>\n",
       "    </tr>\n",
       "    <tr>\n",
       "      <td>25%</td>\n",
       "      <td>28.0</td>\n",
       "      <td>117827.0</td>\n",
       "      <td>9.0</td>\n",
       "      <td>0.0</td>\n",
       "      <td>0.0</td>\n",
       "      <td>40.0</td>\n",
       "    </tr>\n",
       "    <tr>\n",
       "      <td>50%</td>\n",
       "      <td>37.0</td>\n",
       "      <td>178356.0</td>\n",
       "      <td>10.0</td>\n",
       "      <td>0.0</td>\n",
       "      <td>0.0</td>\n",
       "      <td>40.0</td>\n",
       "    </tr>\n",
       "    <tr>\n",
       "      <td>75%</td>\n",
       "      <td>48.0</td>\n",
       "      <td>237051.0</td>\n",
       "      <td>12.0</td>\n",
       "      <td>0.0</td>\n",
       "      <td>0.0</td>\n",
       "      <td>45.0</td>\n",
       "    </tr>\n",
       "    <tr>\n",
       "      <td>max</td>\n",
       "      <td>90.0</td>\n",
       "      <td>1484705.0</td>\n",
       "      <td>16.0</td>\n",
       "      <td>99999.0</td>\n",
       "      <td>4356.0</td>\n",
       "      <td>99.0</td>\n",
       "    </tr>\n",
       "  </tbody>\n",
       "</table>\n",
       "</div>"
      ],
      "text/plain": [
       "           age     fnlwgt  education.num  capital.gain  capital.loss  \\\n",
       "count  32561.0    32561.0        32561.0       32561.0       32561.0   \n",
       "mean      38.6   189778.4           10.1        1077.6          87.3   \n",
       "std       13.6   105550.0            2.6        7385.3         403.0   \n",
       "min       17.0    12285.0            1.0           0.0           0.0   \n",
       "25%       28.0   117827.0            9.0           0.0           0.0   \n",
       "50%       37.0   178356.0           10.0           0.0           0.0   \n",
       "75%       48.0   237051.0           12.0           0.0           0.0   \n",
       "max       90.0  1484705.0           16.0       99999.0        4356.0   \n",
       "\n",
       "       hours.per.week  \n",
       "count         32561.0  \n",
       "mean             40.4  \n",
       "std              12.3  \n",
       "min               1.0  \n",
       "25%              40.0  \n",
       "50%              40.0  \n",
       "75%              45.0  \n",
       "max              99.0  "
      ]
     },
     "execution_count": 476,
     "metadata": {},
     "output_type": "execute_result"
    }
   ],
   "source": [
    "round(data.describe(),1)"
   ]
  },
  {
   "cell_type": "code",
   "execution_count": 477,
   "metadata": {},
   "outputs": [
    {
     "data": {
      "text/plain": [
       "age                int64\n",
       "workclass         object\n",
       "fnlwgt             int64\n",
       "education         object\n",
       "education.num      int64\n",
       "marital.status    object\n",
       "occupation        object\n",
       "relationship      object\n",
       "race              object\n",
       "sex               object\n",
       "capital.gain       int64\n",
       "capital.loss       int64\n",
       "hours.per.week     int64\n",
       "native.country    object\n",
       "income            object\n",
       "dtype: object"
      ]
     },
     "execution_count": 477,
     "metadata": {},
     "output_type": "execute_result"
    }
   ],
   "source": [
    "data.dtypes"
   ]
  },
  {
   "cell_type": "markdown",
   "metadata": {},
   "source": [
    "## Data Preprocessing."
   ]
  },
  {
   "cell_type": "code",
   "execution_count": 478,
   "metadata": {},
   "outputs": [
    {
     "data": {
      "text/plain": [
       "<=50K    24720\n",
       ">50K      7841\n",
       "Name: income, dtype: int64"
      ]
     },
     "execution_count": 478,
     "metadata": {},
     "output_type": "execute_result"
    }
   ],
   "source": [
    "data['income'].value_counts()"
   ]
  },
  {
   "cell_type": "code",
   "execution_count": 479,
   "metadata": {},
   "outputs": [],
   "source": [
    "d = {'<=50K':0,'>50K':1}\n",
    "data['income']=data['income'].map(d)"
   ]
  },
  {
   "cell_type": "code",
   "execution_count": 480,
   "metadata": {},
   "outputs": [
    {
     "data": {
      "text/plain": [
       "Private             22696\n",
       "Self-emp-not-inc     2541\n",
       "Local-gov            2093\n",
       "?                    1836\n",
       "State-gov            1298\n",
       "Self-emp-inc         1116\n",
       "Federal-gov           960\n",
       "Without-pay            14\n",
       "Never-worked            7\n",
       "Name: workclass, dtype: int64"
      ]
     },
     "execution_count": 480,
     "metadata": {},
     "output_type": "execute_result"
    }
   ],
   "source": [
    "data['workclass'].value_counts()"
   ]
  },
  {
   "cell_type": "code",
   "execution_count": 481,
   "metadata": {},
   "outputs": [
    {
     "name": "stdout",
     "output_type": "stream",
     "text": [
      "Private :- 0.21867289390200917\n",
      "Self-emp-not-inc :- 0.2849271940181031\n",
      "Local-gov :- 0.29479216435738176\n",
      "? :- 0.10403050108932461\n",
      "State-gov :- 0.27195685670261943\n",
      "Self-emp-inc :- 0.557347670250896\n",
      "Federal-gov :- 0.38645833333333335\n",
      "Never-worked :- 0.0\n",
      "Without-pay :- 0.0\n"
     ]
    }
   ],
   "source": [
    "print('Private :-',data[data['workclass']=='Private']['income'].mean())\n",
    "print('Self-emp-not-inc :-',data[data['workclass']=='Self-emp-not-inc']['income'].mean())\n",
    "print('Local-gov :-',data[data['workclass']=='Local-gov']['income'].mean())\n",
    "print('? :-',data[data['workclass']=='?']['income'].mean())\n",
    "print('State-gov :-',data[data['workclass']=='State-gov']['income'].mean())\n",
    "print('Self-emp-inc :-',data[data['workclass']=='Self-emp-inc']['income'].mean())\n",
    "print('Federal-gov :-',data[data['workclass']=='Federal-gov']['income'].mean())\n",
    "print('Never-worked :-',data[data['workclass']=='Never-worked']['income'].mean())\n",
    "print('Without-pay :-',data[data['workclass']=='Without-pay']['income'].mean())"
   ]
  },
  {
   "cell_type": "code",
   "execution_count": 484,
   "metadata": {},
   "outputs": [],
   "source": [
    "array=np.array([data[data['workclass']=='Private']['income'].mean(),data[data['workclass']=='Self-emp-not-inc']['income'].mean(),data[data['workclass']=='Local-gov']['income'].mean(),data[data['workclass']=='?']['income'].mean(),data[data['workclass']=='State-gov']['income'].mean(),data[data['workclass']=='Self-emp-inc']['income'].mean(),data[data['workclass']=='Federal-gov']['income'].mean(),data[data['workclass']=='Never-worked']['income'].mean(),data[data['workclass']=='Without-pay']['income'].mean()])"
   ]
  },
  {
   "cell_type": "code",
   "execution_count": 485,
   "metadata": {},
   "outputs": [
    {
     "data": {
      "text/plain": [
       "array([7, 8, 3, 0, 4, 1, 2, 6, 5], dtype=int32)"
      ]
     },
     "execution_count": 485,
     "metadata": {},
     "output_type": "execute_result"
    }
   ],
   "source": [
    "array.argsort()"
   ]
  },
  {
   "cell_type": "code",
   "execution_count": 486,
   "metadata": {},
   "outputs": [],
   "source": [
    "di = {'Private':3,'Self-emp-not-inc':5,'Local-gov':6,'?':2,'State-gov':4,'Self-emp-inc':8,'Federal-gov':7,'Never-worked':0,'Without-pay':1}"
   ]
  },
  {
   "cell_type": "code",
   "execution_count": 487,
   "metadata": {},
   "outputs": [],
   "source": [
    "data['workclass']=data['workclass'].map(di)"
   ]
  },
  {
   "cell_type": "code",
   "execution_count": 488,
   "metadata": {},
   "outputs": [
    {
     "data": {
      "text/plain": [
       "HS-grad         10501\n",
       "Some-college     7291\n",
       "Bachelors        5355\n",
       "Masters          1723\n",
       "Assoc-voc        1382\n",
       "11th             1175\n",
       "Assoc-acdm       1067\n",
       "10th              933\n",
       "7th-8th           646\n",
       "Prof-school       576\n",
       "9th               514\n",
       "12th              433\n",
       "Doctorate         413\n",
       "5th-6th           333\n",
       "1st-4th           168\n",
       "Preschool          51\n",
       "Name: education, dtype: int64"
      ]
     },
     "execution_count": 488,
     "metadata": {},
     "output_type": "execute_result"
    }
   ],
   "source": [
    "data['education'].value_counts()"
   ]
  },
  {
   "cell_type": "code",
   "execution_count": 489,
   "metadata": {},
   "outputs": [],
   "source": [
    "edu ={'Preschool':0,'1st-4th':1,'5th-6th':2,'7th-8th':3,'9th':4,'10th':5,'11th':6,'12th':7,'HS-grad':8,'Some-college':9,'Assoc-voc':10,'Assoc-acdm':12,'Prof-school':13,'Bachelors':14,'Masters':15,'Doctorate':16}"
   ]
  },
  {
   "cell_type": "code",
   "execution_count": 490,
   "metadata": {},
   "outputs": [],
   "source": [
    "data['education']=data['education'].map(edu)"
   ]
  },
  {
   "cell_type": "code",
   "execution_count": 491,
   "metadata": {},
   "outputs": [
    {
     "data": {
      "text/plain": [
       "8     10501\n",
       "9      7291\n",
       "14     5355\n",
       "15     1723\n",
       "10     1382\n",
       "6      1175\n",
       "12     1067\n",
       "5       933\n",
       "3       646\n",
       "13      576\n",
       "4       514\n",
       "7       433\n",
       "16      413\n",
       "2       333\n",
       "1       168\n",
       "0        51\n",
       "Name: education, dtype: int64"
      ]
     },
     "execution_count": 491,
     "metadata": {},
     "output_type": "execute_result"
    }
   ],
   "source": [
    "data['education'].value_counts()"
   ]
  },
  {
   "cell_type": "code",
   "execution_count": 492,
   "metadata": {},
   "outputs": [
    {
     "data": {
      "text/plain": [
       "Married-civ-spouse       14976\n",
       "Never-married            10683\n",
       "Divorced                  4443\n",
       "Separated                 1025\n",
       "Widowed                    993\n",
       "Married-spouse-absent      418\n",
       "Married-AF-spouse           23\n",
       "Name: marital.status, dtype: int64"
      ]
     },
     "execution_count": 492,
     "metadata": {},
     "output_type": "execute_result"
    }
   ],
   "source": [
    "data['marital.status'].value_counts()"
   ]
  },
  {
   "cell_type": "code",
   "execution_count": 493,
   "metadata": {},
   "outputs": [
    {
     "name": "stdout",
     "output_type": "stream",
     "text": [
      "Married-civ-spouse :- 0.4468482905982906\n",
      "Never-married :- 0.04596087241411589\n",
      "Divorced :- 0.10420886788206167\n",
      "Separated:- 0.06439024390243903\n",
      "Widowed :- 0.08559919436052367\n",
      "Married-spouse-absent :- 0.08133971291866028\n",
      "Married-AF-spouse :- 0.43478260869565216\n"
     ]
    }
   ],
   "source": [
    "print('Married-civ-spouse :-',data[data['marital.status']=='Married-civ-spouse']['income'].mean())\n",
    "print('Never-married :-',data[data['marital.status']=='Never-married']['income'].mean())\n",
    "print('Divorced :-',data[data['marital.status']=='Divorced']['income'].mean())\n",
    "print('Separated:-',data[data['marital.status']=='Separated']['income'].mean())\n",
    "print('Widowed :-',data[data['marital.status']=='Widowed']['income'].mean())\n",
    "print('Married-spouse-absent :-',data[data['marital.status']=='Married-spouse-absent']['income'].mean())\n",
    "print('Married-AF-spouse :-',data[data['marital.status']=='Married-AF-spouse']['income'].mean())"
   ]
  },
  {
   "cell_type": "code",
   "execution_count": 494,
   "metadata": {},
   "outputs": [],
   "source": [
    "x = {'Widowed':0,'Never-married':1,'Married-spouse-absent':3,'Separated':2,'Divorced':4,'Married-civ-spouse':5,'Married-AF-spouse':6}"
   ]
  },
  {
   "cell_type": "code",
   "execution_count": 495,
   "metadata": {},
   "outputs": [],
   "source": [
    "data['marital.status']=data['marital.status'].map(x)"
   ]
  },
  {
   "cell_type": "code",
   "execution_count": 496,
   "metadata": {},
   "outputs": [
    {
     "data": {
      "text/plain": [
       "5    14976\n",
       "1    10683\n",
       "4     4443\n",
       "2     1025\n",
       "0      993\n",
       "3      418\n",
       "6       23\n",
       "Name: marital.status, dtype: int64"
      ]
     },
     "execution_count": 496,
     "metadata": {},
     "output_type": "execute_result"
    }
   ],
   "source": [
    "data['marital.status'].value_counts()"
   ]
  },
  {
   "cell_type": "code",
   "execution_count": 497,
   "metadata": {},
   "outputs": [
    {
     "data": {
      "text/plain": [
       "Prof-specialty       4140\n",
       "Craft-repair         4099\n",
       "Exec-managerial      4066\n",
       "Adm-clerical         3770\n",
       "Sales                3650\n",
       "Other-service        3295\n",
       "Machine-op-inspct    2002\n",
       "?                    1843\n",
       "Transport-moving     1597\n",
       "Handlers-cleaners    1370\n",
       "Farming-fishing       994\n",
       "Tech-support          928\n",
       "Protective-serv       649\n",
       "Priv-house-serv       149\n",
       "Armed-Forces            9\n",
       "Name: occupation, dtype: int64"
      ]
     },
     "execution_count": 497,
     "metadata": {},
     "output_type": "execute_result"
    }
   ],
   "source": [
    "data['occupation'].value_counts()"
   ]
  },
  {
   "cell_type": "code",
   "execution_count": 498,
   "metadata": {},
   "outputs": [
    {
     "name": "stdout",
     "output_type": "stream",
     "text": [
      "Prof-specialty:- 0.44903381642512075\n",
      "Craft-repair :- 0.22664064405952672\n",
      "Exec-managerial :- 0.4840137727496311\n",
      "Adm-clerical :- 0.13448275862068965\n",
      "Sales :- 0.2693150684931507\n",
      "Other-service  :- 0.04157814871016692\n",
      "Machine-op-inspct :- 0.12487512487512488\n",
      "? :- 0.10363537710255019\n",
      "Transport-moving :- 0.20037570444583594\n",
      "Handlers-cleaners :- 0.06277372262773723\n",
      "Farming-fishing :- 0.11569416498993963\n",
      "Tech-support:- 0.30495689655172414\n",
      "Protective-serv :- 0.325115562403698\n",
      "Priv-house-serv :- 0.006711409395973154\n",
      "Armed-Forces:- 0.1111111111111111\n"
     ]
    }
   ],
   "source": [
    "print('Prof-specialty:-',data[data['occupation']=='Prof-specialty']['income'].mean())\n",
    "print('Craft-repair :-',data[data['occupation']=='Craft-repair']['income'].mean())\n",
    "print('Exec-managerial :-',data[data['occupation']=='Exec-managerial']['income'].mean())\n",
    "print('Adm-clerical :-',data[data['occupation']=='Adm-clerical']['income'].mean())\n",
    "print('Sales :-',data[data['occupation']=='Sales']['income'].mean())\n",
    "print('Other-service  :-',data[data['occupation']=='Other-service']['income'].mean())\n",
    "print('Machine-op-inspct :-',data[data['occupation']=='Machine-op-inspct']['income'].mean())\n",
    "print('? :-',data[data['occupation']=='?']['income'].mean())\n",
    "print('Transport-moving :-',data[data['occupation']=='Transport-moving']['income'].mean())\n",
    "print('Handlers-cleaners :-',data[data['occupation']=='Handlers-cleaners']['income'].mean())\n",
    "print('Farming-fishing :-',data[data['occupation']=='Farming-fishing']['income'].mean())\n",
    "print('Tech-support:-',data[data['occupation']=='Tech-support']['income'].mean())\n",
    "print('Protective-serv :-',data[data['occupation']=='Protective-serv']['income'].mean())\n",
    "print('Priv-house-serv :-',data[data['occupation']=='Priv-house-serv']['income'].mean())\n",
    "print('Armed-Forces:-',data[data['occupation']=='Armed-Forces']['income'].mean())"
   ]
  },
  {
   "cell_type": "code",
   "execution_count": 499,
   "metadata": {},
   "outputs": [],
   "source": [
    "array1=np.array([data[data['occupation']=='Prof-specialty']['income'].mean(),data[data['occupation']=='Craft-repair']['income'].mean(),data[data['occupation']=='Exec-managerial']['income'].mean(),data[data['occupation']=='Adm-clerical']['income'].mean(),data[data['occupation']=='Sales']['income'].mean(),data[data['occupation']=='Other-service']['income'].mean(),data[data['occupation']=='Machine-op-inspct']['income'].mean(),data[data['occupation']=='?']['income'].mean(),data[data['occupation']=='Transport-moving']['income'].mean(),data[data['occupation']=='Handlers-cleaners']['income'].mean(),data[data['occupation']=='Farming-fishing']['income'].mean(),data[data['occupation']=='Tech-support']['income'].mean(),data[data['occupation']=='Protective-serv']['income'].mean(),data[data['occupation']=='Priv-house-serv']['income'].mean(),data[data['occupation']=='Armed-Forces']['income'].mean()])"
   ]
  },
  {
   "cell_type": "code",
   "execution_count": 500,
   "metadata": {},
   "outputs": [
    {
     "data": {
      "text/plain": [
       "array([13,  5,  9,  7, 14, 10,  6,  3,  8,  1,  4, 11, 12,  0,  2],\n",
       "      dtype=int32)"
      ]
     },
     "execution_count": 500,
     "metadata": {},
     "output_type": "execute_result"
    }
   ],
   "source": [
    "array1.argsort()"
   ]
  },
  {
   "cell_type": "code",
   "execution_count": 501,
   "metadata": {},
   "outputs": [],
   "source": [
    "z ={'Prof-specialty':13,'Craft-repair':9,'Exec-managerial':14,'Adm-clerical':7,'Sales':10,'Other-service':1,'Machine-op-inspct':6,'?':3,'Transport-moving':8,'Handlers-cleaners':2,'Farming-fishing':5,'Tech-support':11,'Protective-serv':12,'Priv-house-serv':0,'Armed-Forces':4}"
   ]
  },
  {
   "cell_type": "code",
   "execution_count": 502,
   "metadata": {},
   "outputs": [],
   "source": [
    "data['occupation']=data['occupation'].map(z)"
   ]
  },
  {
   "cell_type": "code",
   "execution_count": 503,
   "metadata": {},
   "outputs": [
    {
     "data": {
      "text/plain": [
       "13    4140\n",
       "9     4099\n",
       "14    4066\n",
       "7     3770\n",
       "10    3650\n",
       "1     3295\n",
       "6     2002\n",
       "3     1843\n",
       "8     1597\n",
       "2     1370\n",
       "5      994\n",
       "11     928\n",
       "12     649\n",
       "0      149\n",
       "4        9\n",
       "Name: occupation, dtype: int64"
      ]
     },
     "execution_count": 503,
     "metadata": {},
     "output_type": "execute_result"
    }
   ],
   "source": [
    "data['occupation'].value_counts()"
   ]
  },
  {
   "cell_type": "code",
   "execution_count": 504,
   "metadata": {},
   "outputs": [
    {
     "data": {
      "text/plain": [
       "Husband           13193\n",
       "Not-in-family      8305\n",
       "Own-child          5068\n",
       "Unmarried          3446\n",
       "Wife               1568\n",
       "Other-relative      981\n",
       "Name: relationship, dtype: int64"
      ]
     },
     "execution_count": 504,
     "metadata": {},
     "output_type": "execute_result"
    }
   ],
   "source": [
    "data['relationship'].value_counts()"
   ]
  },
  {
   "cell_type": "code",
   "execution_count": 505,
   "metadata": {},
   "outputs": [
    {
     "name": "stdout",
     "output_type": "stream",
     "text": [
      "Husband:- 0.448571212006367\n",
      "Not-in-family :- 0.10307043949428056\n",
      "Own-child :- 0.013220205209155485\n",
      "Unmarried :- 0.0632617527568195\n",
      "Wife :- 0.47512755102040816\n",
      "Other-relative  :- 0.03771661569826707\n"
     ]
    }
   ],
   "source": [
    "print('Husband:-',data[data['relationship']=='Husband']['income'].mean())\n",
    "print('Not-in-family :-',data[data['relationship']=='Not-in-family']['income'].mean())\n",
    "print('Own-child :-',data[data['relationship']=='Own-child']['income'].mean())\n",
    "print('Unmarried :-',data[data['relationship']=='Unmarried']['income'].mean())\n",
    "print('Wife :-',data[data['relationship']=='Wife']['income'].mean())\n",
    "print('Other-relative  :-',data[data['relationship']=='Other-relative']['income'].mean())"
   ]
  },
  {
   "cell_type": "code",
   "execution_count": 506,
   "metadata": {},
   "outputs": [],
   "source": [
    "array3 = np.array([data[data['relationship']=='Husband']['income'].mean(),data[data['relationship']=='Not-in-family']['income'].mean(),data[data['relationship']=='Own-child']['income'].mean(),data[data['relationship']=='Unmarried']['income'].mean(),data[data['relationship']=='Wife']['income'].mean(),data[data['relationship']=='Other-relative']['income'].mean()])"
   ]
  },
  {
   "cell_type": "code",
   "execution_count": 507,
   "metadata": {},
   "outputs": [
    {
     "data": {
      "text/plain": [
       "array([2, 5, 3, 1, 0, 4], dtype=int32)"
      ]
     },
     "execution_count": 507,
     "metadata": {},
     "output_type": "execute_result"
    }
   ],
   "source": [
    "array3.argsort()"
   ]
  },
  {
   "cell_type": "code",
   "execution_count": 508,
   "metadata": {},
   "outputs": [],
   "source": [
    "a ={'Own-child':0,'Other-relative':1,'Unmarried':2,'Not-in-family':3,'Husband':4,'Wife':5}"
   ]
  },
  {
   "cell_type": "code",
   "execution_count": 509,
   "metadata": {},
   "outputs": [],
   "source": [
    "data['relationship']=data['relationship'].map(a)"
   ]
  },
  {
   "cell_type": "code",
   "execution_count": 510,
   "metadata": {},
   "outputs": [
    {
     "data": {
      "text/plain": [
       "White                 27816\n",
       "Black                  3124\n",
       "Asian-Pac-Islander     1039\n",
       "Amer-Indian-Eskimo      311\n",
       "Other                   271\n",
       "Name: race, dtype: int64"
      ]
     },
     "execution_count": 510,
     "metadata": {},
     "output_type": "execute_result"
    }
   ],
   "source": [
    "data['race'].value_counts()"
   ]
  },
  {
   "cell_type": "code",
   "execution_count": 511,
   "metadata": {},
   "outputs": [
    {
     "name": "stdout",
     "output_type": "stream",
     "text": [
      "White:- 0.2558599367270636\n",
      "Black :- 0.12387964148527529\n",
      "Asian-Pac-Islander :- 0.26564003849855633\n",
      "Amer-Indian-Eskimo:- 0.1157556270096463\n",
      "Other:- 0.09225092250922509\n"
     ]
    }
   ],
   "source": [
    "print('White:-',data[data['race']=='White']['income'].mean())\n",
    "print('Black :-',data[data['race']=='Black']['income'].mean())\n",
    "print('Asian-Pac-Islander :-',data[data['race']=='Asian-Pac-Islander']['income'].mean())\n",
    "print('Amer-Indian-Eskimo:-',data[data['race']=='Amer-Indian-Eskimo']['income'].mean())\n",
    "print('Other:-',data[data['race']=='Other']['income'].mean())"
   ]
  },
  {
   "cell_type": "code",
   "execution_count": 512,
   "metadata": {},
   "outputs": [],
   "source": [
    "array4 = np.array([data[data['race']=='White']['income'].mean(),data[data['race']=='Black']['income'].mean(),data[data['race']=='Asian-Pac-Islander']['income'].mean(),data[data['race']=='Amer-Indian-Eskimo']['income'].mean(),data[data['race']=='Other']['income'].mean()])"
   ]
  },
  {
   "cell_type": "code",
   "execution_count": 513,
   "metadata": {},
   "outputs": [
    {
     "data": {
      "text/plain": [
       "array([4, 3, 1, 0, 2], dtype=int32)"
      ]
     },
     "execution_count": 513,
     "metadata": {},
     "output_type": "execute_result"
    }
   ],
   "source": [
    "array4.argsort()"
   ]
  },
  {
   "cell_type": "code",
   "execution_count": 514,
   "metadata": {},
   "outputs": [],
   "source": [
    "q = {'Other':0,'Amer-Indian-Eskimo':1,'Black':2,'White':3,'Asian-Pac-Islander':4}"
   ]
  },
  {
   "cell_type": "code",
   "execution_count": 515,
   "metadata": {},
   "outputs": [],
   "source": [
    "data['race']=data['race'].map(q)"
   ]
  },
  {
   "cell_type": "code",
   "execution_count": 516,
   "metadata": {},
   "outputs": [
    {
     "data": {
      "text/plain": [
       "3    27816\n",
       "2     3124\n",
       "4     1039\n",
       "1      311\n",
       "0      271\n",
       "Name: race, dtype: int64"
      ]
     },
     "execution_count": 516,
     "metadata": {},
     "output_type": "execute_result"
    }
   ],
   "source": [
    "data['race'].value_counts()"
   ]
  },
  {
   "cell_type": "code",
   "execution_count": 517,
   "metadata": {},
   "outputs": [
    {
     "data": {
      "text/plain": [
       "Male      21790\n",
       "Female    10771\n",
       "Name: sex, dtype: int64"
      ]
     },
     "execution_count": 517,
     "metadata": {},
     "output_type": "execute_result"
    }
   ],
   "source": [
    "data['sex'].value_counts()"
   ]
  },
  {
   "cell_type": "code",
   "execution_count": 518,
   "metadata": {},
   "outputs": [],
   "source": [
    "r = {'Male':0,'Female':1}"
   ]
  },
  {
   "cell_type": "code",
   "execution_count": 519,
   "metadata": {},
   "outputs": [],
   "source": [
    "data['sex']=data['sex'].map(r)"
   ]
  },
  {
   "cell_type": "code",
   "execution_count": 520,
   "metadata": {},
   "outputs": [
    {
     "data": {
      "text/plain": [
       "0    21790\n",
       "1    10771\n",
       "Name: sex, dtype: int64"
      ]
     },
     "execution_count": 520,
     "metadata": {},
     "output_type": "execute_result"
    }
   ],
   "source": [
    "data['sex'].value_counts()"
   ]
  },
  {
   "cell_type": "code",
   "execution_count": 521,
   "metadata": {},
   "outputs": [],
   "source": [
    "label = LabelEncoder()\n",
    "data['native.country']=label.fit_transform(data['native.country'])"
   ]
  },
  {
   "cell_type": "code",
   "execution_count": 522,
   "metadata": {},
   "outputs": [
    {
     "data": {
      "text/plain": [
       "39    29170\n",
       "26      643\n",
       "0       583\n",
       "30      198\n",
       "11      137\n",
       "2       121\n",
       "33      114\n",
       "8       106\n",
       "19      100\n",
       "5        95\n",
       "9        90\n",
       "23       81\n",
       "35       80\n",
       "3        75\n",
       "22       73\n",
       "6        70\n",
       "40       67\n",
       "13       64\n",
       "24       62\n",
       "31       60\n",
       "4        59\n",
       "36       51\n",
       "14       44\n",
       "20       43\n",
       "32       37\n",
       "27       34\n",
       "29       31\n",
       "12       29\n",
       "10       29\n",
       "7        28\n",
       "21       24\n",
       "17       20\n",
       "1        19\n",
       "38       19\n",
       "37       18\n",
       "25       18\n",
       "41       16\n",
       "28       14\n",
       "18       13\n",
       "16       13\n",
       "34       12\n",
       "15        1\n",
       "Name: native.country, dtype: int64"
      ]
     },
     "execution_count": 522,
     "metadata": {},
     "output_type": "execute_result"
    }
   ],
   "source": [
    "data['native.country'].value_counts()"
   ]
  },
  {
   "cell_type": "code",
   "execution_count": 523,
   "metadata": {},
   "outputs": [
    {
     "data": {
      "text/html": [
       "<div>\n",
       "<style scoped>\n",
       "    .dataframe tbody tr th:only-of-type {\n",
       "        vertical-align: middle;\n",
       "    }\n",
       "\n",
       "    .dataframe tbody tr th {\n",
       "        vertical-align: top;\n",
       "    }\n",
       "\n",
       "    .dataframe thead th {\n",
       "        text-align: right;\n",
       "    }\n",
       "</style>\n",
       "<table border=\"1\" class=\"dataframe\">\n",
       "  <thead>\n",
       "    <tr style=\"text-align: right;\">\n",
       "      <th></th>\n",
       "      <th>age</th>\n",
       "      <th>workclass</th>\n",
       "      <th>fnlwgt</th>\n",
       "      <th>education</th>\n",
       "      <th>education.num</th>\n",
       "      <th>marital.status</th>\n",
       "      <th>occupation</th>\n",
       "      <th>relationship</th>\n",
       "      <th>race</th>\n",
       "      <th>sex</th>\n",
       "      <th>capital.gain</th>\n",
       "      <th>capital.loss</th>\n",
       "      <th>hours.per.week</th>\n",
       "      <th>native.country</th>\n",
       "      <th>income</th>\n",
       "    </tr>\n",
       "  </thead>\n",
       "  <tbody>\n",
       "    <tr>\n",
       "      <td>0</td>\n",
       "      <td>90</td>\n",
       "      <td>2</td>\n",
       "      <td>77053</td>\n",
       "      <td>8</td>\n",
       "      <td>9</td>\n",
       "      <td>0</td>\n",
       "      <td>3</td>\n",
       "      <td>3</td>\n",
       "      <td>3</td>\n",
       "      <td>1</td>\n",
       "      <td>0</td>\n",
       "      <td>4356</td>\n",
       "      <td>40</td>\n",
       "      <td>39</td>\n",
       "      <td>0</td>\n",
       "    </tr>\n",
       "    <tr>\n",
       "      <td>1</td>\n",
       "      <td>82</td>\n",
       "      <td>3</td>\n",
       "      <td>132870</td>\n",
       "      <td>8</td>\n",
       "      <td>9</td>\n",
       "      <td>0</td>\n",
       "      <td>14</td>\n",
       "      <td>3</td>\n",
       "      <td>3</td>\n",
       "      <td>1</td>\n",
       "      <td>0</td>\n",
       "      <td>4356</td>\n",
       "      <td>18</td>\n",
       "      <td>39</td>\n",
       "      <td>0</td>\n",
       "    </tr>\n",
       "    <tr>\n",
       "      <td>2</td>\n",
       "      <td>66</td>\n",
       "      <td>2</td>\n",
       "      <td>186061</td>\n",
       "      <td>9</td>\n",
       "      <td>10</td>\n",
       "      <td>0</td>\n",
       "      <td>3</td>\n",
       "      <td>2</td>\n",
       "      <td>2</td>\n",
       "      <td>1</td>\n",
       "      <td>0</td>\n",
       "      <td>4356</td>\n",
       "      <td>40</td>\n",
       "      <td>39</td>\n",
       "      <td>0</td>\n",
       "    </tr>\n",
       "    <tr>\n",
       "      <td>3</td>\n",
       "      <td>54</td>\n",
       "      <td>3</td>\n",
       "      <td>140359</td>\n",
       "      <td>3</td>\n",
       "      <td>4</td>\n",
       "      <td>4</td>\n",
       "      <td>6</td>\n",
       "      <td>2</td>\n",
       "      <td>3</td>\n",
       "      <td>1</td>\n",
       "      <td>0</td>\n",
       "      <td>3900</td>\n",
       "      <td>40</td>\n",
       "      <td>39</td>\n",
       "      <td>0</td>\n",
       "    </tr>\n",
       "    <tr>\n",
       "      <td>4</td>\n",
       "      <td>41</td>\n",
       "      <td>3</td>\n",
       "      <td>264663</td>\n",
       "      <td>9</td>\n",
       "      <td>10</td>\n",
       "      <td>2</td>\n",
       "      <td>13</td>\n",
       "      <td>0</td>\n",
       "      <td>3</td>\n",
       "      <td>1</td>\n",
       "      <td>0</td>\n",
       "      <td>3900</td>\n",
       "      <td>40</td>\n",
       "      <td>39</td>\n",
       "      <td>0</td>\n",
       "    </tr>\n",
       "  </tbody>\n",
       "</table>\n",
       "</div>"
      ],
      "text/plain": [
       "   age  workclass  fnlwgt  education  education.num  marital.status  \\\n",
       "0   90          2   77053          8              9               0   \n",
       "1   82          3  132870          8              9               0   \n",
       "2   66          2  186061          9             10               0   \n",
       "3   54          3  140359          3              4               4   \n",
       "4   41          3  264663          9             10               2   \n",
       "\n",
       "   occupation  relationship  race  sex  capital.gain  capital.loss  \\\n",
       "0           3             3     3    1             0          4356   \n",
       "1          14             3     3    1             0          4356   \n",
       "2           3             2     2    1             0          4356   \n",
       "3           6             2     3    1             0          3900   \n",
       "4          13             0     3    1             0          3900   \n",
       "\n",
       "   hours.per.week  native.country  income  \n",
       "0              40              39       0  \n",
       "1              18              39       0  \n",
       "2              40              39       0  \n",
       "3              40              39       0  \n",
       "4              40              39       0  "
      ]
     },
     "execution_count": 523,
     "metadata": {},
     "output_type": "execute_result"
    }
   ],
   "source": [
    "data.head()"
   ]
  },
  {
   "cell_type": "markdown",
   "metadata": {},
   "source": [
    "## StandardScaling."
   ]
  },
  {
   "cell_type": "code",
   "execution_count": 524,
   "metadata": {},
   "outputs": [],
   "source": [
    "x = data.drop(columns=['income'])\n",
    "y = data['income']"
   ]
  },
  {
   "cell_type": "code",
   "execution_count": 525,
   "metadata": {},
   "outputs": [
    {
     "data": {
      "text/plain": [
       "((32561, 14), (32561,))"
      ]
     },
     "execution_count": 525,
     "metadata": {},
     "output_type": "execute_result"
    }
   ],
   "source": [
    "x.shape,y.shape"
   ]
  },
  {
   "cell_type": "code",
   "execution_count": 526,
   "metadata": {},
   "outputs": [],
   "source": [
    "x_train,x_test,y_train,y_test = train_test_split(x,y,random_state=42,stratify=y,train_size=42)"
   ]
  },
  {
   "cell_type": "code",
   "execution_count": 527,
   "metadata": {},
   "outputs": [
    {
     "data": {
      "text/plain": [
       "((42, 14), (32519, 14))"
      ]
     },
     "execution_count": 527,
     "metadata": {},
     "output_type": "execute_result"
    }
   ],
   "source": [
    "x_train.shape,x_test.shape"
   ]
  },
  {
   "cell_type": "code",
   "execution_count": 528,
   "metadata": {},
   "outputs": [],
   "source": [
    "scaler = StandardScaler()\n",
    "x_train_scalled = scaler.fit_transform(x_train)\n",
    "x_test_scalled  = scaler.transform(x_test)"
   ]
  },
  {
   "cell_type": "code",
   "execution_count": 529,
   "metadata": {},
   "outputs": [],
   "source": [
    "X_train=pd.DataFrame(x_train_scalled,columns=x_train.columns)\n",
    "X_test =pd.DataFrame(x_test_scalled,columns=x_test.columns)"
   ]
  },
  {
   "cell_type": "markdown",
   "metadata": {},
   "source": [
    "### Imbalalance To Balance"
   ]
  },
  {
   "cell_type": "code",
   "execution_count": 530,
   "metadata": {},
   "outputs": [
    {
     "data": {
      "image/png": "[encoded data removed]",
      "text/plain": [
       "<Figure size 432x288 with 1 Axes>"
      ]
     },
     "metadata": {
      "needs_background": "light"
     },
     "output_type": "display_data"
    }
   ],
   "source": [
    "y_train.value_counts().plot(kind='bar')\n",
    "plt.show()"
   ]
  },
  {
   "cell_type": "code",
   "execution_count": 531,
   "metadata": {},
   "outputs": [
    {
     "data": {
      "text/plain": [
       "0    32\n",
       "1    10\n",
       "Name: income, dtype: int64"
      ]
     },
     "execution_count": 531,
     "metadata": {},
     "output_type": "execute_result"
    }
   ],
   "source": [
    "y_train.value_counts()"
   ]
  },
  {
   "cell_type": "code",
   "execution_count": 532,
   "metadata": {},
   "outputs": [],
   "source": [
    "from imblearn.over_sampling import SMOTE"
   ]
  },
  {
   "cell_type": "code",
   "execution_count": 533,
   "metadata": {},
   "outputs": [],
   "source": [
    "sm = SMOTE(sampling_strategy=1,random_state=42,k_neighbors=5)"
   ]
  },
  {
   "cell_type": "code",
   "execution_count": 534,
   "metadata": {},
   "outputs": [],
   "source": [
    "x_train_res,y_train_res = sm.fit_sample(X_train,y_train)"
   ]
  },
  {
   "cell_type": "code",
   "execution_count": 535,
   "metadata": {},
   "outputs": [
    {
     "data": {
      "image/png": "[encoded data removed]",
      "text/plain": [
       "<Figure size 432x288 with 1 Axes>"
      ]
     },
     "metadata": {
      "needs_background": "light"
     },
     "output_type": "display_data"
    }
   ],
   "source": [
    "y_train_res.value_counts().plot(kind='bar')\n",
    "plt.show()"
   ]
  },
  {
   "cell_type": "code",
   "execution_count": 536,
   "metadata": {},
   "outputs": [
    {
     "data": {
      "text/plain": [
       "1    32\n",
       "0    32\n",
       "Name: income, dtype: int64"
      ]
     },
     "execution_count": 536,
     "metadata": {},
     "output_type": "execute_result"
    }
   ],
   "source": [
    "y_train_res.value_counts()"
   ]
  },
  {
   "cell_type": "markdown",
   "metadata": {},
   "source": [
    "## Feature Engineering."
   ]
  },
  {
   "cell_type": "markdown",
   "metadata": {},
   "source": [
    "### Foreward Step Features Selection Technique."
   ]
  },
  {
   "cell_type": "code",
   "execution_count": 537,
   "metadata": {},
   "outputs": [],
   "source": [
    "classifier = RandomForestClassifier()"
   ]
  },
  {
   "cell_type": "code",
   "execution_count": 538,
   "metadata": {},
   "outputs": [],
   "source": [
    "self = SequentialFeatureSelector( RandomForestClassifier(n_estimators=100,criterion='gini',random_state=42),k_features=7,forward=True,scoring='accuracy',cv=5,floating=False)"
   ]
  },
  {
   "cell_type": "code",
   "execution_count": 539,
   "metadata": {},
   "outputs": [
    {
     "data": {
      "text/plain": [
       "SequentialFeatureSelector(clone_estimator=True, cv=5,\n",
       "                          estimator=RandomForestClassifier(bootstrap=True,\n",
       "                                                           ccp_alpha=0.0,\n",
       "                                                           class_weight=None,\n",
       "                                                           criterion='gini',\n",
       "                                                           max_depth=None,\n",
       "                                                           max_features='auto',\n",
       "                                                           max_leaf_nodes=None,\n",
       "                                                           max_samples=None,\n",
       "                                                           min_impurity_decrease=0.0,\n",
       "                                                           min_impurity_split=None,\n",
       "                                                           min_samples_leaf=1,\n",
       "                                                           min_samples_split=2,\n",
       "                                                           min_weight_fraction_leaf=0.0,\n",
       "                                                           n_estimators=100,\n",
       "                                                           n_jobs=None,\n",
       "                                                           oob_score=False,\n",
       "                                                           random_state=42,\n",
       "                                                           verbose=0,\n",
       "                                                           warm_start=False),\n",
       "                          floating=False, forward=True, k_features=7, n_jobs=1,\n",
       "                          pre_dispatch='2*n_jobs', scoring='accuracy',\n",
       "                          verbose=0)"
      ]
     },
     "execution_count": 539,
     "metadata": {},
     "output_type": "execute_result"
    }
   ],
   "source": [
    "self.fit(x_train_res,y_train_res)"
   ]
  },
  {
   "cell_type": "code",
   "execution_count": 540,
   "metadata": {},
   "outputs": [
    {
     "data": {
      "text/plain": [
       "7"
      ]
     },
     "execution_count": 540,
     "metadata": {},
     "output_type": "execute_result"
    }
   ],
   "source": [
    "self.k_features"
   ]
  },
  {
   "cell_type": "code",
   "execution_count": 541,
   "metadata": {},
   "outputs": [
    {
     "data": {
      "text/plain": [
       "('workclass',\n",
       " 'marital.status',\n",
       " 'sex',\n",
       " 'capital.gain',\n",
       " 'capital.loss',\n",
       " 'hours.per.week',\n",
       " 'native.country')"
      ]
     },
     "execution_count": 541,
     "metadata": {},
     "output_type": "execute_result"
    }
   ],
   "source": [
    "self.k_feature_names_"
   ]
  },
  {
   "cell_type": "code",
   "execution_count": 542,
   "metadata": {},
   "outputs": [
    {
     "data": {
      "text/plain": [
       "0.9217948717948719"
      ]
     },
     "execution_count": 542,
     "metadata": {},
     "output_type": "execute_result"
    }
   ],
   "source": [
    "self.k_score_"
   ]
  },
  {
   "cell_type": "code",
   "execution_count": 543,
   "metadata": {},
   "outputs": [
    {
     "data": {
      "text/html": [
       "<div>\n",
       "<style scoped>\n",
       "    .dataframe tbody tr th:only-of-type {\n",
       "        vertical-align: middle;\n",
       "    }\n",
       "\n",
       "    .dataframe tbody tr th {\n",
       "        vertical-align: top;\n",
       "    }\n",
       "\n",
       "    .dataframe thead th {\n",
       "        text-align: right;\n",
       "    }\n",
       "</style>\n",
       "<table border=\"1\" class=\"dataframe\">\n",
       "  <thead>\n",
       "    <tr style=\"text-align: right;\">\n",
       "      <th></th>\n",
       "      <th>feature_idx</th>\n",
       "      <th>cv_scores</th>\n",
       "      <th>avg_score</th>\n",
       "      <th>feature_names</th>\n",
       "      <th>ci_bound</th>\n",
       "      <th>std_dev</th>\n",
       "      <th>std_err</th>\n",
       "    </tr>\n",
       "  </thead>\n",
       "  <tbody>\n",
       "    <tr>\n",
       "      <td>1</td>\n",
       "      <td>(5,)</td>\n",
       "      <td>[0.9230769230769231, 0.6923076923076923, 0.923...</td>\n",
       "      <td>0.858974</td>\n",
       "      <td>(marital.status,)</td>\n",
       "      <td>0.116051</td>\n",
       "      <td>0.0902914</td>\n",
       "      <td>0.0451457</td>\n",
       "    </tr>\n",
       "    <tr>\n",
       "      <td>2</td>\n",
       "      <td>(5, 13)</td>\n",
       "      <td>[0.9230769230769231, 0.6923076923076923, 1.0, ...</td>\n",
       "      <td>0.90641</td>\n",
       "      <td>(marital.status, native.country)</td>\n",
       "      <td>0.145119</td>\n",
       "      <td>0.112908</td>\n",
       "      <td>0.0564539</td>\n",
       "    </tr>\n",
       "    <tr>\n",
       "      <td>3</td>\n",
       "      <td>(5, 12, 13)</td>\n",
       "      <td>[0.9230769230769231, 0.7692307692307693, 1.0, ...</td>\n",
       "      <td>0.921795</td>\n",
       "      <td>(marital.status, hours.per.week, native.country)</td>\n",
       "      <td>0.108355</td>\n",
       "      <td>0.084304</td>\n",
       "      <td>0.042152</td>\n",
       "    </tr>\n",
       "    <tr>\n",
       "      <td>4</td>\n",
       "      <td>(5, 10, 12, 13)</td>\n",
       "      <td>[0.8461538461538461, 0.7692307692307693, 1.0, ...</td>\n",
       "      <td>0.90641</td>\n",
       "      <td>(marital.status, capital.gain, hours.per.week,...</td>\n",
       "      <td>0.115064</td>\n",
       "      <td>0.0895235</td>\n",
       "      <td>0.0447618</td>\n",
       "    </tr>\n",
       "    <tr>\n",
       "      <td>5</td>\n",
       "      <td>(1, 5, 10, 12, 13)</td>\n",
       "      <td>[0.9230769230769231, 0.7692307692307693, 1.0, ...</td>\n",
       "      <td>0.921795</td>\n",
       "      <td>(workclass, marital.status, capital.gain, hour...</td>\n",
       "      <td>0.108355</td>\n",
       "      <td>0.084304</td>\n",
       "      <td>0.042152</td>\n",
       "    </tr>\n",
       "    <tr>\n",
       "      <td>6</td>\n",
       "      <td>(1, 5, 9, 10, 12, 13)</td>\n",
       "      <td>[0.9230769230769231, 0.8461538461538461, 1.0, ...</td>\n",
       "      <td>0.953846</td>\n",
       "      <td>(workclass, marital.status, sex, capital.gain,...</td>\n",
       "      <td>0.0790948</td>\n",
       "      <td>0.0615385</td>\n",
       "      <td>0.0307692</td>\n",
       "    </tr>\n",
       "    <tr>\n",
       "      <td>7</td>\n",
       "      <td>(1, 5, 9, 10, 11, 12, 13)</td>\n",
       "      <td>[0.9230769230769231, 0.7692307692307693, 1.0, ...</td>\n",
       "      <td>0.921795</td>\n",
       "      <td>(workclass, marital.status, sex, capital.gain,...</td>\n",
       "      <td>0.108355</td>\n",
       "      <td>0.084304</td>\n",
       "      <td>0.042152</td>\n",
       "    </tr>\n",
       "  </tbody>\n",
       "</table>\n",
       "</div>"
      ],
      "text/plain": [
       "                 feature_idx  \\\n",
       "1                       (5,)   \n",
       "2                    (5, 13)   \n",
       "3                (5, 12, 13)   \n",
       "4            (5, 10, 12, 13)   \n",
       "5         (1, 5, 10, 12, 13)   \n",
       "6      (1, 5, 9, 10, 12, 13)   \n",
       "7  (1, 5, 9, 10, 11, 12, 13)   \n",
       "\n",
       "                                           cv_scores avg_score  \\\n",
       "1  [0.9230769230769231, 0.6923076923076923, 0.923...  0.858974   \n",
       "2  [0.9230769230769231, 0.6923076923076923, 1.0, ...   0.90641   \n",
       "3  [0.9230769230769231, 0.7692307692307693, 1.0, ...  0.921795   \n",
       "4  [0.8461538461538461, 0.7692307692307693, 1.0, ...   0.90641   \n",
       "5  [0.9230769230769231, 0.7692307692307693, 1.0, ...  0.921795   \n",
       "6  [0.9230769230769231, 0.8461538461538461, 1.0, ...  0.953846   \n",
       "7  [0.9230769230769231, 0.7692307692307693, 1.0, ...  0.921795   \n",
       "\n",
       "                                       feature_names   ci_bound    std_dev  \\\n",
       "1                                  (marital.status,)   0.116051  0.0902914   \n",
       "2                   (marital.status, native.country)   0.145119   0.112908   \n",
       "3   (marital.status, hours.per.week, native.country)   0.108355   0.084304   \n",
       "4  (marital.status, capital.gain, hours.per.week,...   0.115064  0.0895235   \n",
       "5  (workclass, marital.status, capital.gain, hour...   0.108355   0.084304   \n",
       "6  (workclass, marital.status, sex, capital.gain,...  0.0790948  0.0615385   \n",
       "7  (workclass, marital.status, sex, capital.gain,...   0.108355   0.084304   \n",
       "\n",
       "     std_err  \n",
       "1  0.0451457  \n",
       "2  0.0564539  \n",
       "3   0.042152  \n",
       "4  0.0447618  \n",
       "5   0.042152  \n",
       "6  0.0307692  \n",
       "7   0.042152  "
      ]
     },
     "execution_count": 543,
     "metadata": {},
     "output_type": "execute_result"
    }
   ],
   "source": [
    "pd.DataFrame(self.get_metric_dict()).T"
   ]
  },
  {
   "cell_type": "code",
   "execution_count": 544,
   "metadata": {},
   "outputs": [],
   "source": [
    "X_train_self = self.transform(x_train_res)\n",
    "X_test_self   = self.transform(X_test)"
   ]
  },
  {
   "cell_type": "code",
   "execution_count": 545,
   "metadata": {},
   "outputs": [],
   "source": [
    "X_train_self = pd.DataFrame(X_train_self,columns=self.k_feature_names_)"
   ]
  },
  {
   "cell_type": "code",
   "execution_count": 546,
   "metadata": {},
   "outputs": [],
   "source": [
    "X_test_self = pd.DataFrame(X_test_self,columns=self.k_feature_names_)"
   ]
  },
  {
   "cell_type": "code",
   "execution_count": 547,
   "metadata": {},
   "outputs": [
    {
     "data": {
      "text/plain": [
       "((64, 7), (32519, 7))"
      ]
     },
     "execution_count": 547,
     "metadata": {},
     "output_type": "execute_result"
    }
   ],
   "source": [
    "X_train_self.shape,X_test_self.shape"
   ]
  },
  {
   "cell_type": "code",
   "execution_count": 548,
   "metadata": {},
   "outputs": [],
   "source": [
    "def RandomForest(x_train,x_test,y_train,y_test):\n",
    "    clf =RandomForestClassifier(n_estimators=100,criterion='gini',random_state=42)\n",
    "    clf.fit(x_train,y_train)\n",
    "    y_predict = clf.predict(x_test)\n",
    "    print('Accuracy :-',accuracy_score(y_test,y_predict))"
   ]
  },
  {
   "cell_type": "code",
   "execution_count": 549,
   "metadata": {},
   "outputs": [
    {
     "name": "stdout",
     "output_type": "stream",
     "text": [
      "Accuracy :- 0.7729019957563271\n"
     ]
    }
   ],
   "source": [
    "RandomForest(X_train_self,X_test_self,y_train_res,y_test)"
   ]
  },
  {
   "cell_type": "markdown",
   "metadata": {},
   "source": [
    "### Backward Step Features Selection Techinique"
   ]
  },
  {
   "cell_type": "code",
   "execution_count": 550,
   "metadata": {},
   "outputs": [],
   "source": [
    "selb = SequentialFeatureSelector( RandomForestClassifier(n_estimators=100,criterion='gini',random_state=42),k_features=7,forward=False,scoring='accuracy',cv=5,floating=False)"
   ]
  },
  {
   "cell_type": "code",
   "execution_count": 551,
   "metadata": {},
   "outputs": [
    {
     "data": {
      "text/plain": [
       "SequentialFeatureSelector(clone_estimator=True, cv=5,\n",
       "                          estimator=RandomForestClassifier(bootstrap=True,\n",
       "                                                           ccp_alpha=0.0,\n",
       "                                                           class_weight=None,\n",
       "                                                           criterion='gini',\n",
       "                                                           max_depth=None,\n",
       "                                                           max_features='auto',\n",
       "                                                           max_leaf_nodes=None,\n",
       "                                                           max_samples=None,\n",
       "                                                           min_impurity_decrease=0.0,\n",
       "                                                           min_impurity_split=None,\n",
       "                                                           min_samples_leaf=1,\n",
       "                                                           min_samples_split=2,\n",
       "                                                           min_weight_fraction_leaf=0.0,\n",
       "                                                           n_estimators=100,\n",
       "                                                           n_jobs=None,\n",
       "                                                           oob_score=False,\n",
       "                                                           random_state=42,\n",
       "                                                           verbose=0,\n",
       "                                                           warm_start=False),\n",
       "                          floating=False, forward=False, k_features=7, n_jobs=1,\n",
       "                          pre_dispatch='2*n_jobs', scoring='accuracy',\n",
       "                          verbose=0)"
      ]
     },
     "execution_count": 551,
     "metadata": {},
     "output_type": "execute_result"
    }
   ],
   "source": [
    "selb.fit(x_train_res,y_train_res)"
   ]
  },
  {
   "cell_type": "code",
   "execution_count": 552,
   "metadata": {},
   "outputs": [
    {
     "data": {
      "text/plain": [
       "('fnlwgt',\n",
       " 'education.num',\n",
       " 'relationship',\n",
       " 'race',\n",
       " 'capital.gain',\n",
       " 'capital.loss',\n",
       " 'hours.per.week')"
      ]
     },
     "execution_count": 552,
     "metadata": {},
     "output_type": "execute_result"
    }
   ],
   "source": [
    "selb.k_feature_names_"
   ]
  },
  {
   "cell_type": "code",
   "execution_count": 553,
   "metadata": {},
   "outputs": [
    {
     "data": {
      "text/plain": [
       "7"
      ]
     },
     "execution_count": 553,
     "metadata": {},
     "output_type": "execute_result"
    }
   ],
   "source": [
    "selb.k_features"
   ]
  },
  {
   "cell_type": "code",
   "execution_count": 554,
   "metadata": {},
   "outputs": [
    {
     "data": {
      "text/plain": [
       "0.9064102564102565"
      ]
     },
     "execution_count": 554,
     "metadata": {},
     "output_type": "execute_result"
    }
   ],
   "source": [
    "selb.k_score_"
   ]
  },
  {
   "cell_type": "code",
   "execution_count": 555,
   "metadata": {},
   "outputs": [
    {
     "data": {
      "text/html": [
       "<div>\n",
       "<style scoped>\n",
       "    .dataframe tbody tr th:only-of-type {\n",
       "        vertical-align: middle;\n",
       "    }\n",
       "\n",
       "    .dataframe tbody tr th {\n",
       "        vertical-align: top;\n",
       "    }\n",
       "\n",
       "    .dataframe thead th {\n",
       "        text-align: right;\n",
       "    }\n",
       "</style>\n",
       "<table border=\"1\" class=\"dataframe\">\n",
       "  <thead>\n",
       "    <tr style=\"text-align: right;\">\n",
       "      <th></th>\n",
       "      <th>feature_idx</th>\n",
       "      <th>cv_scores</th>\n",
       "      <th>avg_score</th>\n",
       "      <th>feature_names</th>\n",
       "      <th>ci_bound</th>\n",
       "      <th>std_dev</th>\n",
       "      <th>std_err</th>\n",
       "    </tr>\n",
       "  </thead>\n",
       "  <tbody>\n",
       "    <tr>\n",
       "      <td>14</td>\n",
       "      <td>(0, 1, 2, 3, 4, 5, 6, 7, 8, 9, 10, 11, 12, 13)</td>\n",
       "      <td>[1.0, 0.6153846153846154, 0.9230769230769231, ...</td>\n",
       "      <td>0.857692</td>\n",
       "      <td>(age, workclass, fnlwgt, education, education....</td>\n",
       "      <td>0.194999</td>\n",
       "      <td>0.151716</td>\n",
       "      <td>0.075858</td>\n",
       "    </tr>\n",
       "    <tr>\n",
       "      <td>13</td>\n",
       "      <td>(0, 1, 2, 3, 4, 6, 7, 8, 9, 10, 11, 12, 13)</td>\n",
       "      <td>[1.0, 0.6923076923076923, 0.9230769230769231, ...</td>\n",
       "      <td>0.889744</td>\n",
       "      <td>(age, workclass, fnlwgt, education, education....</td>\n",
       "      <td>0.149434</td>\n",
       "      <td>0.116264</td>\n",
       "      <td>0.0581322</td>\n",
       "    </tr>\n",
       "    <tr>\n",
       "      <td>12</td>\n",
       "      <td>(1, 2, 3, 4, 6, 7, 8, 9, 10, 11, 12, 13)</td>\n",
       "      <td>[0.9230769230769231, 0.7692307692307693, 0.923...</td>\n",
       "      <td>0.90641</td>\n",
       "      <td>(workclass, fnlwgt, education, education.num, ...</td>\n",
       "      <td>0.0965903</td>\n",
       "      <td>0.0751505</td>\n",
       "      <td>0.0375753</td>\n",
       "    </tr>\n",
       "    <tr>\n",
       "      <td>11</td>\n",
       "      <td>(1, 2, 3, 4, 7, 8, 9, 10, 11, 12, 13)</td>\n",
       "      <td>[0.9230769230769231, 0.7692307692307693, 0.923...</td>\n",
       "      <td>0.90641</td>\n",
       "      <td>(workclass, fnlwgt, education, education.num, ...</td>\n",
       "      <td>0.0965903</td>\n",
       "      <td>0.0751505</td>\n",
       "      <td>0.0375753</td>\n",
       "    </tr>\n",
       "    <tr>\n",
       "      <td>10</td>\n",
       "      <td>(1, 2, 4, 7, 8, 9, 10, 11, 12, 13)</td>\n",
       "      <td>[0.9230769230769231, 0.7692307692307693, 0.923...</td>\n",
       "      <td>0.90641</td>\n",
       "      <td>(workclass, fnlwgt, education.num, relationshi...</td>\n",
       "      <td>0.0965903</td>\n",
       "      <td>0.0751505</td>\n",
       "      <td>0.0375753</td>\n",
       "    </tr>\n",
       "    <tr>\n",
       "      <td>9</td>\n",
       "      <td>(1, 2, 4, 7, 8, 10, 11, 12, 13)</td>\n",
       "      <td>[0.9230769230769231, 0.7692307692307693, 0.923...</td>\n",
       "      <td>0.90641</td>\n",
       "      <td>(workclass, fnlwgt, education.num, relationshi...</td>\n",
       "      <td>0.0965903</td>\n",
       "      <td>0.0751505</td>\n",
       "      <td>0.0375753</td>\n",
       "    </tr>\n",
       "    <tr>\n",
       "      <td>8</td>\n",
       "      <td>(1, 2, 4, 7, 8, 10, 11, 12)</td>\n",
       "      <td>[0.8461538461538461, 0.7692307692307693, 0.923...</td>\n",
       "      <td>0.891026</td>\n",
       "      <td>(workclass, fnlwgt, education.num, relationshi...</td>\n",
       "      <td>0.100232</td>\n",
       "      <td>0.0779841</td>\n",
       "      <td>0.0389921</td>\n",
       "    </tr>\n",
       "    <tr>\n",
       "      <td>7</td>\n",
       "      <td>(2, 4, 7, 8, 10, 11, 12)</td>\n",
       "      <td>[0.9230769230769231, 0.7692307692307693, 0.923...</td>\n",
       "      <td>0.90641</td>\n",
       "      <td>(fnlwgt, education.num, relationship, race, ca...</td>\n",
       "      <td>0.0965903</td>\n",
       "      <td>0.0751505</td>\n",
       "      <td>0.0375753</td>\n",
       "    </tr>\n",
       "  </tbody>\n",
       "</table>\n",
       "</div>"
      ],
      "text/plain": [
       "                                       feature_idx  \\\n",
       "14  (0, 1, 2, 3, 4, 5, 6, 7, 8, 9, 10, 11, 12, 13)   \n",
       "13     (0, 1, 2, 3, 4, 6, 7, 8, 9, 10, 11, 12, 13)   \n",
       "12        (1, 2, 3, 4, 6, 7, 8, 9, 10, 11, 12, 13)   \n",
       "11           (1, 2, 3, 4, 7, 8, 9, 10, 11, 12, 13)   \n",
       "10              (1, 2, 4, 7, 8, 9, 10, 11, 12, 13)   \n",
       "9                  (1, 2, 4, 7, 8, 10, 11, 12, 13)   \n",
       "8                      (1, 2, 4, 7, 8, 10, 11, 12)   \n",
       "7                         (2, 4, 7, 8, 10, 11, 12)   \n",
       "\n",
       "                                            cv_scores avg_score  \\\n",
       "14  [1.0, 0.6153846153846154, 0.9230769230769231, ...  0.857692   \n",
       "13  [1.0, 0.6923076923076923, 0.9230769230769231, ...  0.889744   \n",
       "12  [0.9230769230769231, 0.7692307692307693, 0.923...   0.90641   \n",
       "11  [0.9230769230769231, 0.7692307692307693, 0.923...   0.90641   \n",
       "10  [0.9230769230769231, 0.7692307692307693, 0.923...   0.90641   \n",
       "9   [0.9230769230769231, 0.7692307692307693, 0.923...   0.90641   \n",
       "8   [0.8461538461538461, 0.7692307692307693, 0.923...  0.891026   \n",
       "7   [0.9230769230769231, 0.7692307692307693, 0.923...   0.90641   \n",
       "\n",
       "                                        feature_names   ci_bound    std_dev  \\\n",
       "14  (age, workclass, fnlwgt, education, education....   0.194999   0.151716   \n",
       "13  (age, workclass, fnlwgt, education, education....   0.149434   0.116264   \n",
       "12  (workclass, fnlwgt, education, education.num, ...  0.0965903  0.0751505   \n",
       "11  (workclass, fnlwgt, education, education.num, ...  0.0965903  0.0751505   \n",
       "10  (workclass, fnlwgt, education.num, relationshi...  0.0965903  0.0751505   \n",
       "9   (workclass, fnlwgt, education.num, relationshi...  0.0965903  0.0751505   \n",
       "8   (workclass, fnlwgt, education.num, relationshi...   0.100232  0.0779841   \n",
       "7   (fnlwgt, education.num, relationship, race, ca...  0.0965903  0.0751505   \n",
       "\n",
       "      std_err  \n",
       "14   0.075858  \n",
       "13  0.0581322  \n",
       "12  0.0375753  \n",
       "11  0.0375753  \n",
       "10  0.0375753  \n",
       "9   0.0375753  \n",
       "8   0.0389921  \n",
       "7   0.0375753  "
      ]
     },
     "execution_count": 555,
     "metadata": {},
     "output_type": "execute_result"
    }
   ],
   "source": [
    "pd.DataFrame(selb.get_metric_dict()).T"
   ]
  },
  {
   "cell_type": "code",
   "execution_count": 556,
   "metadata": {},
   "outputs": [],
   "source": [
    "X_train_selb = sel.transform(x_train_res)\n",
    "X_test_selb  = sel.transform(X_test)"
   ]
  },
  {
   "cell_type": "code",
   "execution_count": 557,
   "metadata": {},
   "outputs": [
    {
     "data": {
      "text/plain": [
       "((64, 7), (32519, 7))"
      ]
     },
     "execution_count": 557,
     "metadata": {},
     "output_type": "execute_result"
    }
   ],
   "source": [
    "X_train_selb.shape,X_test_selb.shape"
   ]
  },
  {
   "cell_type": "code",
   "execution_count": 558,
   "metadata": {},
   "outputs": [],
   "source": [
    "def RandomForest(x_train,x_test,y_train,y_test):\n",
    "    clf =RandomForestClassifier(n_estimators=100,criterion='gini',random_state=42)\n",
    "    clf.fit(x_train,y_train)\n",
    "    y_predict = clf.predict(x_test)\n",
    "    print('Accuracy :-',accuracy_score(y_test,y_predict))"
   ]
  },
  {
   "cell_type": "code",
   "execution_count": 559,
   "metadata": {},
   "outputs": [
    {
     "name": "stdout",
     "output_type": "stream",
     "text": [
      "Accuracy :- 0.8061748516252037\n",
      "Wall time: 768 ms\n"
     ]
    }
   ],
   "source": [
    "%%time\n",
    "RandomForest(X_train_selb,X_test_selb,y_train_res,y_test)"
   ]
  }
 ],
 "metadata": {
  "kernelspec": {
   "display_name": "Python 3",
   "language": "python",
   "name": "python3"
  },
  "language_info": {
   "codemirror_mode": {
    "name": "ipython",
    "version": 3
   },
   "file_extension": ".py",
   "mimetype": "text/x-python",
   "name": "python",
   "nbconvert_exporter": "python",
   "pygments_lexer": "ipython3",
   "version": "3.8.5"
  }
 },
 "nbformat": 4,
 "nbformat_minor": 2
}
